{
 "cells": [
  {
   "cell_type": "markdown",
   "metadata": {
    "toc": true
   },
   "source": [
    "<h1>Table of Contents<span class=\"tocSkip\"></span></h1>\n",
    "<div class=\"toc\"><ul class=\"toc-item\"><li><span><a href=\"#Read-data\" data-toc-modified-id=\"Read-data-1\"><span class=\"toc-item-num\">1&nbsp;&nbsp;</span>Read data</a></span></li></ul></div>"
   ]
  },
  {
   "cell_type": "code",
   "execution_count": null,
   "metadata": {
    "ExecuteTime": {
     "end_time": "2020-12-08T17:18:09.571277Z",
     "start_time": "2020-12-08T17:18:09.556724Z"
    }
   },
   "outputs": [],
   "source": [
    "import pandas as pd\n",
    "import numpy as np\n",
    "import plotly.express as px\n",
    "import plotly.graph_objects as go\n",
    "import plotly\n",
    "import seaborn as sns\n",
    "\n",
    "import os\n",
    "from tqdm.notebook import tqdm\n",
    "from glob import glob\n",
    "from collections import Counter\n",
    "from sklearn.feature_extraction.text import TfidfVectorizer\n",
    "from sklearn.manifold import TSNE\n",
    "from sklearn.decomposition import PCA"
   ]
  },
  {
   "cell_type": "markdown",
   "metadata": {},
   "source": [
    "# Read data"
   ]
  },
  {
   "cell_type": "code",
   "execution_count": null,
   "metadata": {
    "ExecuteTime": {
     "end_time": "2020-12-08T12:51:19.530595Z",
     "start_time": "2020-12-08T12:51:18.856526Z"
    }
   },
   "outputs": [],
   "source": [
    "# investigate time istribution of papers\n",
    "\n",
    "cnt = {}\n",
    "for path in glob('clean_data/*/*'):\n",
    "    _, yr, month = path.split('/')\n",
    "    cnt[(int(yr), int(month))] = len(glob(path + '/*'))"
   ]
  },
  {
   "cell_type": "code",
   "execution_count": null,
   "metadata": {
    "ExecuteTime": {
     "end_time": "2020-12-08T12:51:23.894258Z",
     "start_time": "2020-12-08T12:51:19.537738Z"
    }
   },
   "outputs": [],
   "source": [
    "# into the df\n",
    "x = pd.DataFrame(cnt.items()).rename(columns={0: 'date', 1:'cnt'})\n",
    "x.loc[:, 'date'] = x.date.astype(str)\n",
    "# draw \n",
    "px.bar(x, x='date', y='cnt', )"
   ]
  },
  {
   "cell_type": "code",
   "execution_count": null,
   "metadata": {},
   "outputs": [],
   "source": []
  },
  {
   "cell_type": "code",
   "execution_count": null,
   "metadata": {
    "ExecuteTime": {
     "end_time": "2020-12-08T15:18:37.247566Z",
     "start_time": "2020-12-08T15:17:33.848537Z"
    }
   },
   "outputs": [],
   "source": [
    "# read all data \n",
    "data = dict(yr=[], month=[], text=[], title=[])\n",
    "for path in tqdm(glob('clean_data/*/*')):\n",
    "    _, yr, month = path.split('/')\n",
    "    files = glob(path + '/*')\n",
    "    for file in files:\n",
    "        data['yr'].append(int(yr))\n",
    "        data['month'].append(int(month))\n",
    "        data['title'].append(file.split('/')[-1][:-4])\n",
    "        data['text'].append(open(file).read())"
   ]
  },
  {
   "cell_type": "code",
   "execution_count": null,
   "metadata": {
    "ExecuteTime": {
     "end_time": "2020-12-08T15:19:14.565067Z",
     "start_time": "2020-12-08T15:19:14.470425Z"
    }
   },
   "outputs": [],
   "source": [
    "# transform into df\n",
    "df = pd.DataFrame(data)\n",
    "df.loc[:, 'text'] = df.text.astype(pd.StringDtype())\n",
    "df.loc[:, 'title'] = df.title.astype(pd.StringDtype())"
   ]
  },
  {
   "cell_type": "code",
   "execution_count": null,
   "metadata": {
    "ExecuteTime": {
     "end_time": "2020-12-08T16:53:10.522203Z",
     "start_time": "2020-12-08T16:51:15.507277Z"
    }
   },
   "outputs": [],
   "source": [
    "# count all words\n",
    "vocab_cnt = Counter()\n",
    "for text in df.text.tolist():\n",
    "    for word in text.split():\n",
    "        if word.isalpha() and len(word) > 2:\n",
    "            vocab_cnt[word] += 1"
   ]
  },
  {
   "cell_type": "code",
   "execution_count": null,
   "metadata": {
    "ExecuteTime": {
     "end_time": "2020-12-08T16:56:45.519543Z",
     "start_time": "2020-12-08T16:56:44.678661Z"
    },
    "scrolled": false
   },
   "outputs": [],
   "source": [
    "# what are the most common words\n",
    "vocab_cnt.most_common()[:20]"
   ]
  },
  {
   "cell_type": "code",
   "execution_count": null,
   "metadata": {
    "ExecuteTime": {
     "end_time": "2020-12-08T16:58:58.224181Z",
     "start_time": "2020-12-08T16:58:46.935566Z"
    }
   },
   "outputs": [],
   "source": [
    "# distribution of word counts\n",
    "px.histogram(x=vocab_cnt.values(), log_y=True)"
   ]
  },
  {
   "cell_type": "code",
   "execution_count": null,
   "metadata": {},
   "outputs": [],
   "source": []
  },
  {
   "cell_type": "code",
   "execution_count": null,
   "metadata": {
    "ExecuteTime": {
     "end_time": "2020-12-08T16:04:30.286030Z",
     "start_time": "2020-12-08T16:02:14.020543Z"
    }
   },
   "outputs": [],
   "source": [
    "# transform to tfidf\n",
    "tfidf_transformer = TfidfVectorizer(min_df=0.01)\n",
    "tfidf = tfidf_transformer.fit_transform(df.text)"
   ]
  },
  {
   "cell_type": "code",
   "execution_count": null,
   "metadata": {
    "ExecuteTime": {
     "end_time": "2020-12-08T16:05:10.466139Z",
     "start_time": "2020-12-08T16:05:06.313160Z"
    }
   },
   "outputs": [],
   "source": [
    "tfidf = tfidf.toarray()"
   ]
  },
  {
   "cell_type": "code",
   "execution_count": null,
   "metadata": {
    "ExecuteTime": {
     "end_time": "2020-12-08T16:21:34.848115Z",
     "start_time": "2020-12-08T16:21:34.824797Z"
    }
   },
   "outputs": [],
   "source": [
    "tfidf.shape"
   ]
  },
  {
   "cell_type": "code",
   "execution_count": null,
   "metadata": {
    "ExecuteTime": {
     "end_time": "2020-12-08T16:38:09.475255Z",
     "start_time": "2020-12-08T16:38:09.433935Z"
    }
   },
   "outputs": [],
   "source": [
    "vocabulary = np.array(tfidf_transformer.get_feature_names())"
   ]
  },
  {
   "cell_type": "code",
   "execution_count": null,
   "metadata": {},
   "outputs": [],
   "source": []
  },
  {
   "cell_type": "code",
   "execution_count": null,
   "metadata": {
    "ExecuteTime": {
     "end_time": "2020-12-08T16:38:40.157153Z",
     "start_time": "2020-12-08T16:38:22.490236Z"
    }
   },
   "outputs": [],
   "source": [
    "# remove words shorter than 3\n",
    "indexes = np.array([True if len(vocabulary[i]) >= 3 else False for i in range(len(vocabulary))])\n",
    "vocabulary = vocabulary[indexes]\n",
    "tfidf = tfidf[:, indexes]"
   ]
  },
  {
   "cell_type": "code",
   "execution_count": null,
   "metadata": {
    "ExecuteTime": {
     "end_time": "2020-12-08T16:42:38.083467Z",
     "start_time": "2020-12-08T16:42:38.071844Z"
    }
   },
   "outputs": [],
   "source": [
    "vocabulary.shape"
   ]
  },
  {
   "cell_type": "code",
   "execution_count": null,
   "metadata": {
    "ExecuteTime": {
     "end_time": "2020-12-08T17:09:27.682308Z",
     "start_time": "2020-12-08T17:09:27.118031Z"
    }
   },
   "outputs": [],
   "source": [
    "tfidf_mean =  np.mean(tfidf, axis=0)\n",
    "ind_max = np.argsort(tfidf_mean)[-20:][::-1]"
   ]
  },
  {
   "cell_type": "code",
   "execution_count": null,
   "metadata": {
    "ExecuteTime": {
     "end_time": "2020-12-08T17:09:27.744176Z",
     "start_time": "2020-12-08T17:09:27.710120Z"
    },
    "scrolled": false
   },
   "outputs": [],
   "source": [
    "for ind in ind_max:\n",
    "    print(f'{vocabulary[ind]}\\t{np.round(tfidf_mean[ind], 3)}')"
   ]
  },
  {
   "cell_type": "code",
   "execution_count": null,
   "metadata": {
    "ExecuteTime": {
     "end_time": "2020-12-08T18:00:30.757201Z",
     "start_time": "2020-12-08T17:59:44.993110Z"
    }
   },
   "outputs": [],
   "source": [
    "# map highly dimensional tf-idf vector into 50D vector with PCS\n",
    "pca_obj = PCA(n_components=50)\n",
    "pca = pca_obj.fit_transform(tfidf)"
   ]
  },
  {
   "cell_type": "code",
   "execution_count": null,
   "metadata": {
    "ExecuteTime": {
     "end_time": "2020-12-08T18:07:02.591119Z",
     "start_time": "2020-12-08T18:07:02.571909Z"
    }
   },
   "outputs": [],
   "source": [
    "# how much varinace is explained?\n",
    "np.sum(pca_obj.explained_variance_ratio_)"
   ]
  },
  {
   "cell_type": "code",
   "execution_count": null,
   "metadata": {
    "ExecuteTime": {
     "end_time": "2020-12-08T18:21:24.944839Z",
     "start_time": "2020-12-08T18:21:24.924545Z"
    }
   },
   "outputs": [],
   "source": [
    "# what are the words that contribute to given PCA component\n",
    "component = 0\n",
    "print('explained variance:', np.round(pca_obj.explained_variance_ratio_[component], 3))\n",
    "ind_1pca = np.argsort(pca_obj.components_[component, :])[::-1]\n",
    "for i in ind_1pca[:20]:\n",
    "    print(f'{vocabulary[i]:15}{np.round(pca_obj.components_[component, :][i] ** 2, 2)}')"
   ]
  },
  {
   "cell_type": "code",
   "execution_count": null,
   "metadata": {
    "ExecuteTime": {
     "end_time": "2020-12-08T17:20:00.096201Z",
     "start_time": "2020-12-08T17:20:00.072104Z"
    }
   },
   "outputs": [],
   "source": [
    "pca.shape"
   ]
  },
  {
   "cell_type": "code",
   "execution_count": null,
   "metadata": {
    "ExecuteTime": {
     "end_time": "2020-12-08T17:48:22.689973Z",
     "start_time": "2020-12-08T17:33:59.805629Z"
    }
   },
   "outputs": [],
   "source": [
    "# reduce dimensionality further to 2D with tSNE\n",
    "# for perp in [5, 10, 20, 40, 60]:\n",
    "tsne = TSNE(2, perplexity=30, n_iter=3000).fit_transform(pca)"
   ]
  },
  {
   "cell_type": "code",
   "execution_count": null,
   "metadata": {},
   "outputs": [],
   "source": []
  },
  {
   "cell_type": "code",
   "execution_count": 243,
   "metadata": {
    "ExecuteTime": {
     "end_time": "2020-12-08T18:28:29.047164Z",
     "start_time": "2020-12-08T18:28:29.028107Z"
    }
   },
   "outputs": [
    {
     "data": {
      "text/html": [
       "<div>\n",
       "<style scoped>\n",
       "    .dataframe tbody tr th:only-of-type {\n",
       "        vertical-align: middle;\n",
       "    }\n",
       "\n",
       "    .dataframe tbody tr th {\n",
       "        vertical-align: top;\n",
       "    }\n",
       "\n",
       "    .dataframe thead th {\n",
       "        text-align: right;\n",
       "    }\n",
       "</style>\n",
       "<table border=\"1\" class=\"dataframe\">\n",
       "  <thead>\n",
       "    <tr style=\"text-align: right;\">\n",
       "      <th></th>\n",
       "      <th>yr</th>\n",
       "      <th>month</th>\n",
       "      <th>text</th>\n",
       "      <th>title</th>\n",
       "    </tr>\n",
       "  </thead>\n",
       "  <tbody>\n",
       "    <tr>\n",
       "      <th>0</th>\n",
       "      <td>2015</td>\n",
       "      <td>9</td>\n",
       "      <td>vacuo xray data collection graphenewrapped pro...</td>\n",
       "      <td>In vacuo X‐ray data collection from graphene‐w...</td>\n",
       "    </tr>\n",
       "    <tr>\n",
       "      <th>1</th>\n",
       "      <td>2015</td>\n",
       "      <td>9</td>\n",
       "      <td>fast , parameterized model upper atmospheric i...</td>\n",
       "      <td>A fast, parameterized model of upper atmospher...</td>\n",
       "    </tr>\n",
       "    <tr>\n",
       "      <th>2</th>\n",
       "      <td>2015</td>\n",
       "      <td>9</td>\n",
       "      <td>multivariate analysis extremely large tofsims ...</td>\n",
       "      <td>Multivariate analysis of extremely large ToFSI...</td>\n",
       "    </tr>\n",
       "    <tr>\n",
       "      <th>3</th>\n",
       "      <td>2015</td>\n",
       "      <td>9</td>\n",
       "      <td>reef flatten effect total richness specie resp...</td>\n",
       "      <td>Reef flattening effects on total richness and ...</td>\n",
       "    </tr>\n",
       "    <tr>\n",
       "      <th>4</th>\n",
       "      <td>2015</td>\n",
       "      <td>9</td>\n",
       "      <td>ecosystemlevel effect globally spread inverteb...</td>\n",
       "      <td>Ecosystem‐level effects of a globally spreadin...</td>\n",
       "    </tr>\n",
       "  </tbody>\n",
       "</table>\n",
       "</div>"
      ],
      "text/plain": [
       "     yr  month                                               text  \\\n",
       "0  2015      9  vacuo xray data collection graphenewrapped pro...   \n",
       "1  2015      9  fast , parameterized model upper atmospheric i...   \n",
       "2  2015      9  multivariate analysis extremely large tofsims ...   \n",
       "3  2015      9  reef flatten effect total richness specie resp...   \n",
       "4  2015      9  ecosystemlevel effect globally spread inverteb...   \n",
       "\n",
       "                                               title  \n",
       "0  In vacuo X‐ray data collection from graphene‐w...  \n",
       "1  A fast, parameterized model of upper atmospher...  \n",
       "2  Multivariate analysis of extremely large ToFSI...  \n",
       "3  Reef flattening effects on total richness and ...  \n",
       "4  Ecosystem‐level effects of a globally spreadin...  "
      ]
     },
     "execution_count": 243,
     "metadata": {},
     "output_type": "execute_result"
    }
   ],
   "source": [
    "df.head()"
   ]
  },
  {
   "cell_type": "code",
   "execution_count": null,
   "metadata": {
    "ExecuteTime": {
     "end_time": "2020-12-08T18:30:02.821082Z",
     "start_time": "2020-12-08T18:30:02.402855Z"
    }
   },
   "outputs": [],
   "source": [
    "fig = go.Figure()\n",
    "fig.add_trace(\n",
    "    go.Scatter(x=tsne[:, 0], y=tsne[:, 1], mode='markers', \n",
    "               marker_size=3, marker_color=df.index\n",
    "#                hovertext=df.title.tolist(), hoverinfo=['text']\n",
    "              )\n",
    ")\n",
    "fig.update_layout(width=700, height=700)"
   ]
  },
  {
   "cell_type": "code",
   "execution_count": null,
   "metadata": {},
   "outputs": [],
   "source": []
  },
  {
   "cell_type": "code",
   "execution_count": null,
   "metadata": {},
   "outputs": [],
   "source": []
  },
  {
   "cell_type": "code",
   "execution_count": null,
   "metadata": {},
   "outputs": [],
   "source": []
  }
 ],
 "metadata": {
  "kernelspec": {
   "display_name": "Python 3",
   "language": "python",
   "name": "python3"
  },
  "language_info": {
   "codemirror_mode": {
    "name": "ipython",
    "version": 3
   },
   "file_extension": ".py",
   "mimetype": "text/x-python",
   "name": "python",
   "nbconvert_exporter": "python",
   "pygments_lexer": "ipython3",
   "version": "3.8.5"
  },
  "toc": {
   "base_numbering": 1,
   "nav_menu": {},
   "number_sections": true,
   "sideBar": true,
   "skip_h1_title": false,
   "title_cell": "Table of Contents",
   "title_sidebar": "Contents",
   "toc_cell": true,
   "toc_position": {},
   "toc_section_display": true,
   "toc_window_display": false
  }
 },
 "nbformat": 4,
 "nbformat_minor": 4
}
