{
 "cells": [
  {
   "cell_type": "markdown",
   "metadata": {},
   "source": [
    "## Preparation"
   ]
  },
  {
   "cell_type": "markdown",
   "metadata": {},
   "source": [
    "Import all necessary packages"
   ]
  },
  {
   "cell_type": "code",
   "execution_count": 1,
   "metadata": {},
   "outputs": [],
   "source": [
    "import os\n",
    "from xml.etree import ElementTree as Et\n",
    "\n",
    "import matplotlib.dates as mdates\n",
    "import matplotlib.pyplot as plt\n",
    "import numpy as np\n",
    "import pandas as pd\n",
    "from sklearn.feature_extraction.text import TfidfVectorizer"
   ]
  },
  {
   "cell_type": "markdown",
   "metadata": {},
   "source": [
    "This auxuliary function returns a dataframe containing publication year, month and filepath of all documents"
   ]
  },
  {
   "cell_type": "code",
   "execution_count": 2,
   "metadata": {},
   "outputs": [],
   "source": [
    "def get_file_paths(CLEAN_DATA_DIR: str) -> pd.DataFrame:\n",
    "    \"\"\"\n",
    "    Given a the clean_data directory, it returns dataframe containing year, month and filepath.\n",
    "    param CLEAN_DATA_DIR: path to clean_data folder\n",
    "    return: dataframe with columns year, month, path\n",
    "    \"\"\"\n",
    "    documents = pd.DataFrame(\n",
    "        [\n",
    "            {\n",
    "                \"year\": int(year),\n",
    "                \"month\": int(month),\n",
    "                \"path\": os.path.join(CLEAN_DATA_DIR, year, month, file),\n",
    "            }\n",
    "            for year in os.listdir(CLEAN_DATA_DIR)\n",
    "            for month in os.listdir(os.path.join(CLEAN_DATA_DIR, year))\n",
    "            for file in os.listdir(os.path.join(CLEAN_DATA_DIR, year, month))\n",
    "            if os.path.isfile(os.path.join(CLEAN_DATA_DIR, year, month, file))\n",
    "        ]\n",
    "    )\n",
    "    return documents"
   ]
  },
  {
   "cell_type": "markdown",
   "metadata": {},
   "source": [
    "Reading xml file to DataFrame"
   ]
  },
  {
   "cell_type": "code",
   "execution_count": 3,
   "metadata": {},
   "outputs": [],
   "source": [
    "def parse_xml_to_df(path: str) -> pd.DataFrame:\n",
    "    \"\"\"\n",
    "    Parses xml file to a dataframe.\n",
    "    param path: path to xml file\n",
    "    return: dataframe\n",
    "    \"\"\"\n",
    "    root = Et.parse(path).getroot()\n",
    "    df = pd.DataFrame([node.attrib for node in root])\n",
    "    return df"
   ]
  },
  {
   "cell_type": "markdown",
   "metadata": {},
   "source": [
    "Reading tags connected to mathematics from the."
   ]
  },
  {
   "cell_type": "code",
   "execution_count": 4,
   "metadata": {},
   "outputs": [],
   "source": [
    "def get_relevant_tags(filepath: str, N=None) -> set:\n",
    "    \"\"\"Given a path to tags xml file, return N tags with the highest 'Count'\n",
    "    param filepath: path to xml_file\n",
    "    param N: number of tags\n",
    "    return:\n",
    "    \"\"\"\n",
    "    df = parse_xml_to_df(filepath)\n",
    "    df.sort_values(\"Count\", inplace=True, ascending=False)\n",
    "    tags = df[\"TagName\"].to_list()\n",
    "    tags = [tag.split(\"-\") for tag in tags]\n",
    "    flat = [item for sublist in tags for item in sublist]\n",
    "    if N:\n",
    "        flat = flat[:N]\n",
    "\n",
    "    return set(flat)"
   ]
  },
  {
   "cell_type": "markdown",
   "metadata": {},
   "source": [
    "Plotting the results"
   ]
  },
  {
   "cell_type": "code",
   "execution_count": 5,
   "metadata": {},
   "outputs": [],
   "source": [
    "def plot_time_series(x: pd.Series, y: pd.Series) -> None:\n",
    "    \"\"\"\n",
    "    Plots time series data.\n",
    "    param x: Timestamps (one per each month)\n",
    "    param y: values\n",
    "    return: None\n",
    "    \"\"\"\n",
    "    fig, ax = plt.subplots()\n",
    "    ax.plot(x, y)\n",
    "    # format the ticks\n",
    "    ax.xaxis.set_major_locator(mdates.YearLocator())\n",
    "    ax.xaxis.set_major_formatter(mdates.DateFormatter(\"%Y\"))\n",
    "    ax.xaxis.set_minor_locator(mdates.MonthLocator())\n",
    "    plt.ylim(0, y.max() * 1.2)"
   ]
  },
  {
   "cell_type": "markdown",
   "metadata": {},
   "source": [
    "Computing score how relevant math related tags are per each month. This function computes euclidean norm of tf-idf vector of scores of words listed in tags, then it computes mean score per each month."
   ]
  },
  {
   "cell_type": "code",
   "execution_count": 6,
   "metadata": {},
   "outputs": [],
   "source": [
    "def get_tf_idf_per_month(documents: pd.DataFrame, tags: set) -> pd.DataFrame:\n",
    "    \"\"\"\n",
    "    Calculate how relevant math related tags are, per each month and year.\n",
    "    :param documents: df containing columns: year, month, filepath to text files.\n",
    "    :param tags: set of strings (tags)\n",
    "    :return:\n",
    "    \"\"\"\n",
    "    Tfidf = TfidfVectorizer(input=\"filename\")\n",
    "    tfidf_sparse_matrix = Tfidf.fit_transform(documents.path)\n",
    "    # get matrix indices for tags connected to math\n",
    "    tags_indices = [Tfidf.vocabulary_[tag] for tag in tags.intersection(Tfidf.get_feature_names())]\n",
    "    # take subset of tfidf matrix corresponding to tags connected to math\n",
    "    tfidf_math_tags = tfidf_sparse_matrix[:, tags_indices]\n",
    "    # calculate euclidean norm of tfidf scores of tags connected to math\n",
    "    norm = np.square(tfidf_math_tags.multiply(tfidf_math_tags).sum(axis=1))\n",
    "    # assign information about year and month to tfidf matrix\n",
    "    tf_idf_per_file = pd.DataFrame(\n",
    "        {'norm': np.asarray(norm).reshape(-1),\n",
    "         \"year\": documents.year.astype(\"int64\"),\n",
    "         \"month\": documents.month.astype(\"int64\")}\n",
    "    )\n",
    "    # calculate mean per each month\n",
    "    tf_idf_per_month = (\n",
    "        tf_idf_per_file[[\"norm\", \"year\", \"month\"]]\n",
    "            .groupby([\"year\", \"month\"])\n",
    "            .mean()\n",
    "            .reset_index()\n",
    "    )\n",
    "    # timestamp for year and month (for plotting reasons)\n",
    "    tf_idf_per_month[\"timestamp\"] = pd.to_datetime(\n",
    "        {\"year\": tf_idf_per_month.year, \"month\": tf_idf_per_month.month, \"day\": 1}\n",
    "    )\n",
    "    tf_idf_per_month.sort_values(\"timestamp\", inplace=True)\n",
    "    return tf_idf_per_month"
   ]
  },
  {
   "cell_type": "markdown",
   "metadata": {},
   "source": [
    "## Measuring amount of mathematics in computer science"
   ]
  },
  {
   "cell_type": "markdown",
   "metadata": {},
   "source": [
    "Importing documents and tags related to mathematics."
   ]
  },
  {
   "cell_type": "code",
   "execution_count": 7,
   "metadata": {},
   "outputs": [],
   "source": [
    "CLEAN_DATA_DIR = os.path.join(os.path.join(\"..\", \"clean_data\"))\n",
    "MATH_TAGS_FILEPATH = os.path.join(\"..\", \"tags\", \"math_tags.xml\")\n",
    "MATHOVERFLOW_TAGS_FILEPATH = os.path.join(\"..\", \"tags\", \"mathoverflow_tags.xml\")\n",
    "tags = get_relevant_tags(MATHOVERFLOW_TAGS_FILEPATH, 1000).union(\n",
    "    get_relevant_tags(MATH_TAGS_FILEPATH, 2000)\n",
    ")\n",
    "documents = get_file_paths(CLEAN_DATA_DIR)"
   ]
  },
  {
   "cell_type": "markdown",
   "metadata": {},
   "source": [
    "Computing the score"
   ]
  },
  {
   "cell_type": "code",
   "execution_count": 8,
   "metadata": {},
   "outputs": [],
   "source": [
    "tf_idf_per_month = get_tf_idf_per_month(documents, tags)"
   ]
  },
  {
   "cell_type": "markdown",
   "metadata": {},
   "source": [
    "Rejecting results from 2020 and ploting the results"
   ]
  },
  {
   "cell_type": "code",
   "execution_count": 9,
   "metadata": {},
   "outputs": [
    {
     "data": {
      "text/plain": [
       "Text(0, 0.5, 'Mean norm of tf-idf vector of tags related to mathematics')"
      ]
     },
     "execution_count": 9,
     "metadata": {},
     "output_type": "execute_result"
    },
    {
     "data": {
      "image/png": "[encoded data removed]",
      "text/plain": [
       "<Figure size 432x288 with 1 Axes>"
      ]
     },
     "metadata": {
      "needs_background": "light"
     },
     "output_type": "display_data"
    }
   ],
   "source": [
    "tf_idf_per_month = tf_idf_per_month[tf_idf_per_month[\"timestamp\"].dt.year < 2020]\n",
    "plot_time_series(\n",
    "    x=tf_idf_per_month[\"timestamp\"],\n",
    "    y=tf_idf_per_month[\"norm\"],\n",
    ")\n",
    "plt.title(\"How much mathematics there was in computer science?\")\n",
    "plt.ylabel(\"Mean norm of tf-idf vector of tags related to mathematics\")"
   ]
  }
 ],
 "metadata": {
  "anaconda-cloud": {},
  "kernelspec": {
   "display_name": "dprpy4",
   "language": "python",
   "name": "dprpy4"
  },
  "language_info": {
   "codemirror_mode": {
    "name": "ipython",
    "version": 3
   },
   "file_extension": ".py",
   "mimetype": "text/x-python",
   "name": "python",
   "nbconvert_exporter": "python",
   "pygments_lexer": "ipython3",
   "version": "3.8.6"
  }
 },
 "nbformat": 4,
 "nbformat_minor": 4
}
